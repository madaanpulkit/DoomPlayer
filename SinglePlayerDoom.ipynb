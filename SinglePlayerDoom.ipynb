{
  "nbformat": 4,
  "nbformat_minor": 0,
  "metadata": {
    "kernelspec": {
      "name": "python3",
      "display_name": "Python 3"
    },
    "language_info": {
      "codemirror_mode": {
        "name": "ipython",
        "version": 3
      },
      "file_extension": ".py",
      "mimetype": "text/x-python",
      "name": "python",
      "nbconvert_exporter": "python",
      "pygments_lexer": "ipython3",
      "version": "3.6.7"
    },
    "toc": {
      "base_numbering": 1,
      "nav_menu": {},
      "number_sections": true,
      "sideBar": true,
      "skip_h1_title": false,
      "title_cell": "Table of Contents",
      "title_sidebar": "Contents",
      "toc_cell": false,
      "toc_position": {},
      "toc_section_display": true,
      "toc_window_display": false
    },
    "varInspector": {
      "cols": {
        "lenName": 16,
        "lenType": 16,
        "lenVar": 40
      },
      "kernels_config": {
        "python": {
          "delete_cmd_postfix": "",
          "delete_cmd_prefix": "del ",
          "library": "var_list.py",
          "varRefreshCmd": "print(var_dic_list())"
        },
        "r": {
          "delete_cmd_postfix": ") ",
          "delete_cmd_prefix": "rm(",
          "library": "var_list.r",
          "varRefreshCmd": "cat(var_dic_list()) "
        }
      },
      "position": {
        "height": "144px",
        "left": "982px",
        "right": "20px",
        "top": "111px",
        "width": "350px"
      },
      "types_to_exclude": [
        "module",
        "function",
        "builtin_function_or_method",
        "instance",
        "_Feature"
      ],
      "window_display": false
    },
    "colab": {
      "name": "MultiPlayer-Doom.ipynb",
      "provenance": [],
      "collapsed_sections": [],
      "toc_visible": true
    },
    "accelerator": "GPU"
  },
  "cells": [
    {
      "cell_type": "markdown",
      "metadata": {
        "id": "QQOhotsW6gQM",
        "colab_type": "text"
      },
      "source": [
        "#Setup"
      ]
    },
    {
      "cell_type": "code",
      "metadata": {
        "id": "W8q17SogNMMm",
        "colab_type": "code",
        "colab": {
          "base_uri": "https://localhost:8080/",
          "height": 50
        },
        "outputId": "5802d00d-363c-4f88-d4ce-78a2067390e0"
      },
      "source": [
        "!pip install --upgrade torch"
      ],
      "execution_count": 25,
      "outputs": [
        {
          "output_type": "stream",
          "text": [
            "Requirement already up-to-date: torch in /usr/local/lib/python3.6/dist-packages (1.3.1)\n",
            "Requirement already satisfied, skipping upgrade: numpy in /usr/local/lib/python3.6/dist-packages (from torch) (1.17.4)\n"
          ],
          "name": "stdout"
        }
      ]
    },
    {
      "cell_type": "code",
      "metadata": {
        "id": "57cUNwCyNNMZ",
        "colab_type": "code",
        "outputId": "4bc47aef-2edf-4143-baff-18f4a4dcf2b3",
        "colab": {
          "base_uri": "https://localhost:8080/",
          "height": 924
        }
      },
      "source": [
        "%%bash\n",
        "# Install deps from \n",
        "# https://github.com/mwydmuch/ViZDoom/blob/master/doc/Building.md#-linux\n",
        "\n",
        "apt-get update\n",
        "apt-get install build-essential zlib1g-dev libsdl2-dev libjpeg-dev \\\n",
        "nasm tar libbz2-dev libgtk2.0-dev cmake git libfluidsynth-dev libgme-dev \\\n",
        "libopenal-dev timidity libwildmidi-dev unzip\n",
        "apt-get install libboost-all-dev\n",
        "apt-get install liblua5.1-dev\n",
        "pip install vizdoom"
      ],
      "execution_count": 26,
      "outputs": [
        {
          "output_type": "stream",
          "text": [
            "Ign:1 https://developer.download.nvidia.com/compute/cuda/repos/ubuntu1804/x86_64  InRelease\n",
            "Ign:2 https://developer.download.nvidia.com/compute/machine-learning/repos/ubuntu1804/x86_64  InRelease\n",
            "Hit:3 https://developer.download.nvidia.com/compute/cuda/repos/ubuntu1804/x86_64  Release\n",
            "Hit:4 https://developer.download.nvidia.com/compute/machine-learning/repos/ubuntu1804/x86_64  Release\n",
            "Get:5 http://security.ubuntu.com/ubuntu bionic-security InRelease [88.7 kB]\n",
            "Hit:6 http://archive.ubuntu.com/ubuntu bionic InRelease\n",
            "Hit:7 http://ppa.launchpad.net/graphics-drivers/ppa/ubuntu bionic InRelease\n",
            "Hit:9 https://cloud.r-project.org/bin/linux/ubuntu bionic-cran35/ InRelease\n",
            "Get:10 http://archive.ubuntu.com/ubuntu bionic-updates InRelease [88.7 kB]\n",
            "Hit:12 http://ppa.launchpad.net/marutter/c2d4u3.5/ubuntu bionic InRelease\n",
            "Get:13 http://archive.ubuntu.com/ubuntu bionic-backports InRelease [74.6 kB]\n",
            "Fetched 252 kB in 1s (176 kB/s)\n",
            "Reading package lists...\n",
            "Reading package lists...\n",
            "Building dependency tree...\n",
            "Reading state information...\n",
            "build-essential is already the newest version (12.4ubuntu1).\n",
            "libgtk2.0-dev is already the newest version (2.24.32-1ubuntu1).\n",
            "libjpeg-dev is already the newest version (8c-2ubuntu8).\n",
            "unzip is already the newest version (6.0-21ubuntu1).\n",
            "zlib1g-dev is already the newest version (1:1.2.11.dfsg-0ubuntu2).\n",
            "libfluidsynth-dev is already the newest version (1.1.9-1).\n",
            "libgme-dev is already the newest version (0.6.2-1).\n",
            "libopenal-dev is already the newest version (1:1.18.2-2).\n",
            "libwildmidi-dev is already the newest version (0.4.2-1).\n",
            "nasm is already the newest version (2.13.02-0.1).\n",
            "timidity is already the newest version (2.13.2-41).\n",
            "cmake is already the newest version (3.10.2-1ubuntu2.18.04.1).\n",
            "git is already the newest version (1:2.17.1-1ubuntu0.4).\n",
            "libbz2-dev is already the newest version (1.0.6-8.1ubuntu0.2).\n",
            "tar is already the newest version (1.29b-2ubuntu0.1).\n",
            "libsdl2-dev is already the newest version (2.0.8+dfsg1-1ubuntu1.18.04.4).\n",
            "The following package was automatically installed and is no longer required:\n",
            "  libnvidia-common-430\n",
            "Use 'apt autoremove' to remove it.\n",
            "0 upgraded, 0 newly installed, 0 to remove and 66 not upgraded.\n",
            "Reading package lists...\n",
            "Building dependency tree...\n",
            "Reading state information...\n",
            "libboost-all-dev is already the newest version (1.65.1.0ubuntu1).\n",
            "The following package was automatically installed and is no longer required:\n",
            "  libnvidia-common-430\n",
            "Use 'apt autoremove' to remove it.\n",
            "0 upgraded, 0 newly installed, 0 to remove and 66 not upgraded.\n",
            "Reading package lists...\n",
            "Building dependency tree...\n",
            "Reading state information...\n",
            "liblua5.1-0-dev is already the newest version (5.1.5-8.1build2).\n",
            "The following package was automatically installed and is no longer required:\n",
            "  libnvidia-common-430\n",
            "Use 'apt autoremove' to remove it.\n",
            "0 upgraded, 0 newly installed, 0 to remove and 66 not upgraded.\n",
            "Requirement already satisfied: vizdoom in /usr/local/lib/python3.6/dist-packages (1.1.7)\n",
            "Requirement already satisfied: numpy in /usr/local/lib/python3.6/dist-packages (from vizdoom) (1.17.4)\n"
          ],
          "name": "stdout"
        }
      ]
    },
    {
      "cell_type": "markdown",
      "metadata": {
        "id": "UWjUU9c-QRGa",
        "colab_type": "text"
      },
      "source": [
        "## Change cfg"
      ]
    },
    {
      "cell_type": "markdown",
      "metadata": {
        "id": "P6Dd82OmQmbx",
        "colab_type": "text"
      },
      "source": [
        "### cig.cfg"
      ]
    },
    {
      "cell_type": "code",
      "metadata": {
        "id": "I6Buk_QAQQij",
        "colab_type": "code",
        "outputId": "d3b94d01-4dec-4010-8547-1d943d4dcf4d",
        "colab": {
          "base_uri": "https://localhost:8080/",
          "height": 34
        }
      },
      "source": [
        "%%writefile /usr/local/lib/python3.6/dist-packages/vizdoom/scenarios/cig.cfg\n",
        "# Lines starting with # are treated as comments (or with whitespaces+#).\n",
        "# It doesn't matter if you use capital letters or not.\n",
        "# It doesn't matter if you use underscore or camel notation for keys, e.g. episode_timeout is the same as episodeTimeout.\n",
        "\n",
        "doom_scenario_path = deathmatch_shotgun.wad\n",
        "\n",
        "#12 minutes\n",
        "episode_timeout = 25200\n",
        "\n",
        "# Rendering options\n",
        "screen_resolution = RES_640X480\n",
        "screen_format = CRCGCB\n",
        "render_hud = true\n",
        "render_crosshair = true\n",
        "render_weapon = true\n",
        "render_decals = false\n",
        "render_particles = false\n",
        "\n",
        "window_visible = true\n",
        "\n",
        "# Available buttons\n",
        "available_buttons = \n",
        "\t{\n",
        "\t\tATTACK\n",
        "\t\tUSE\n",
        "\n",
        "\t\tTURN_LEFT\n",
        "\t\tTURN_RIGHT\n",
        "\t\tMOVE_RIGHT\n",
        "\t\tMOVE_LEFT\n",
        "\t\tMOVE_FORWARD\n",
        "\t\tMOVE_BACKWARD\n",
        "\n",
        "\t\tTURN_LEFT_RIGHT_DELTA\n",
        "\t\tLOOK_UP_DOWN_DELTA\n",
        "\t}\n",
        "\n",
        "mode = ASYNC_PLAYER"
      ],
      "execution_count": 27,
      "outputs": [
        {
          "output_type": "stream",
          "text": [
            "Overwriting /usr/local/lib/python3.6/dist-packages/vizdoom/scenarios/cig.cfg\n"
          ],
          "name": "stdout"
        }
      ]
    },
    {
      "cell_type": "markdown",
      "metadata": {
        "id": "iu_4Gab6QqyX",
        "colab_type": "text"
      },
      "source": [
        "### bots.cfg"
      ]
    },
    {
      "cell_type": "code",
      "metadata": {
        "id": "V7GX3okVQtv4",
        "colab_type": "code",
        "outputId": "0ccfb749-0ca6-4a00-aed4-d47665898e26",
        "colab": {
          "base_uri": "https://localhost:8080/",
          "height": 34
        }
      },
      "source": [
        "%%writefile /usr/local/lib/python3.6/dist-packages/vizdoom/bots.cfg\n",
        "{\n",
        "    name        Rambo\n",
        "    aiming      67\n",
        "    perfection  50\n",
        "    reaction    70\n",
        "    isp         50\n",
        "    color       \"40 cf 00\"\n",
        "    skin        base\n",
        "    //weaponpref    012385678\n",
        "}\n",
        "\n",
        "{\n",
        "    name        McClane\n",
        "    aiming      34\n",
        "    perfection  75\n",
        "    reaction    15\n",
        "    isp         90\n",
        "    color       \"b0 b0 b0\"\n",
        "    skin        base\n",
        "    //weaponpref    012345678\n",
        "}\n",
        "\n",
        "{\n",
        "    name        MacGyver\n",
        "    aiming      80\n",
        "    perfection  67\n",
        "    reaction    72\n",
        "    isp         87\n",
        "    color       \"50 50 60\"\n",
        "    skin        base\n",
        "    //weaponpref    012345678\n",
        "}\n",
        "\n",
        "{\n",
        "    name        Plissken\n",
        "    aiming      15\n",
        "    perfection  50\n",
        "    reaction    50\n",
        "    isp         50\n",
        "    color       \"8f 00 00\"\n",
        "    skin        base\n",
        "    //weaponpref    082345678\n",
        "}\n",
        "\n",
        "{\n",
        "    name        Machete\n",
        "    aiming      50\n",
        "    perfection  13\n",
        "    reaction    20\n",
        "    isp         100\n",
        "    color       \"ff ff ff\"\n",
        "    skin        base\n",
        "    //weaponpref    012345678\n",
        "}\n",
        "\n",
        "{\n",
        "    name        Anderson\n",
        "    aiming      45\n",
        "    perfection  30\n",
        "    reaction    70\n",
        "    isp         60\n",
        "    color       \"ff af 3f\"\n",
        "    skin        base\n",
        "    //weaponpref    012345678\n",
        "}\n",
        "\n",
        "{\n",
        "    name        Leone\n",
        "    aiming      56\n",
        "    perfection  34\n",
        "    reaction    78\n",
        "    isp         50\n",
        "    color       \"bf 00 00\"\n",
        "    skin        base\n",
        "    //weaponpref    012345678\n",
        "}\n",
        "\n",
        "{\n",
        "    name        Predator\n",
        "    aiming      25\n",
        "    perfection  55\n",
        "    reaction    32\n",
        "    isp         70\n",
        "    color       \"00 00 ff\"\n",
        "    skin        base\n",
        "    //weaponpref    012345678\n",
        "}\n",
        "\n",
        "{\n",
        "    name        Ripley\n",
        "    aiming      61\n",
        "    perfection  50\n",
        "    reaction    23\n",
        "    isp         32\n",
        "    color        \"00 00 7f\"\n",
        "    skin        base\n",
        "    //weaponpref    012345678\n",
        "}\n",
        "\n",
        "{\n",
        "    name        T800\n",
        "    aiming      90\n",
        "    perfection  85\n",
        "    reaction    10\n",
        "    isp         30\n",
        "    color       \"ff ff 00\"\n",
        "    skin        base\n",
        "    //weaponpref    012345678\n",
        "}\n",
        "\n",
        "{\n",
        "    name        Dredd\n",
        "    aiming      12\n",
        "    perfection  35\n",
        "    reaction    56\n",
        "    isp         37\n",
        "    color       \"40 cf 00\"\n",
        "    skin        base\n",
        "    //weaponpref    012345678\n",
        "}\n",
        "\n",
        "{\n",
        "    name        Conan\n",
        "    aiming      10\n",
        "    perfection  35\n",
        "    reaction    10\n",
        "    isp         100\n",
        "    color       \"b0 b0 b0\"\n",
        "    skin        base\n",
        "    //weaponpref    012345678\n",
        "}\n",
        "\n",
        "{\n",
        "    name        Bond\n",
        "    aiming      67\n",
        "    perfection  15\n",
        "    reaction    76\n",
        "    isp         37\n",
        "    color       \"50 50 60\"\n",
        "    skin        base\n",
        "    //weaponpref    012345678\n",
        "}\n",
        "\n",
        "{\n",
        "    name        Jones\n",
        "    aiming      52\n",
        "    perfection  35\n",
        "    reaction    50\n",
        "    isp         37\n",
        "    color       \"8f 00 00\"\n",
        "    skin        base\n",
        "    //weaponpref    012345678\n",
        "}\n",
        "\n",
        "{\n",
        "    name        Blazkowicz\n",
        "    aiming      80\n",
        "    perfection  80\n",
        "    reaction    80\n",
        "    isp         100\n",
        "    color       \"00 00 00\"\n",
        "    skin        base\n",
        "    //weaponpref    012345678\n",
        "}"
      ],
      "execution_count": 28,
      "outputs": [
        {
          "output_type": "stream",
          "text": [
            "Overwriting /usr/local/lib/python3.6/dist-packages/vizdoom/bots.cfg\n"
          ],
          "name": "stdout"
        }
      ]
    },
    {
      "cell_type": "markdown",
      "metadata": {
        "id": "5YlugXHfRE8u",
        "colab_type": "text"
      },
      "source": [
        "### deathmatch_shotgun.wad"
      ]
    },
    {
      "cell_type": "code",
      "metadata": {
        "id": "iX-rbXJPRUeZ",
        "colab_type": "code",
        "colab": {}
      },
      "source": [
        "!cp /content/gdrive/My\\ Drive/Doom/deathmatch_shotgun.wad /usr/local/lib/python3.6/dist-packages/vizdoom/scenarios/deathmatch_shotgun.wad"
      ],
      "execution_count": 0,
      "outputs": []
    },
    {
      "cell_type": "markdown",
      "metadata": {
        "id": "VPq5tWSMQNMv",
        "colab_type": "text"
      },
      "source": [
        "## Import"
      ]
    },
    {
      "cell_type": "code",
      "metadata": {
        "id": "B2YG1ObtM8eo",
        "colab_type": "code",
        "colab": {}
      },
      "source": [
        "import torch\n",
        "import torch.nn as nn\n",
        "import torch.nn.functional as F\n",
        "import torchvision\n",
        "import pandas as pd\n",
        "import numpy as np           \n",
        "from vizdoom import *        # Doom Environment\n",
        "import random\n",
        "import time\n",
        "from skimage import transform\n",
        "from collections import deque\n",
        "import matplotlib.pyplot as plt\n",
        "import cv2\n",
        "from collections import OrderedDict\n",
        "import vizdoom as vzd\n",
        "import pickle\n",
        "from tqdm import tqdm"
      ],
      "execution_count": 0,
      "outputs": []
    },
    {
      "cell_type": "markdown",
      "metadata": {
        "id": "TD6e9YThVHJp",
        "colab_type": "text"
      },
      "source": [
        "## Clone"
      ]
    },
    {
      "cell_type": "code",
      "metadata": {
        "id": "p1hVaWI3NbdI",
        "colab_type": "code",
        "outputId": "93a63818-142d-45d8-b48b-c12c14d04332",
        "colab": {
          "base_uri": "https://localhost:8080/",
          "height": 50
        }
      },
      "source": [
        "!git clone https://github.com/glample/Arnold.git\n",
        "!git clone https://github.com/mwydmuch/ViZDoom.git"
      ],
      "execution_count": 31,
      "outputs": [
        {
          "output_type": "stream",
          "text": [
            "fatal: destination path 'Arnold' already exists and is not an empty directory.\n",
            "fatal: destination path 'ViZDoom' already exists and is not an empty directory.\n"
          ],
          "name": "stdout"
        }
      ]
    },
    {
      "cell_type": "markdown",
      "metadata": {
        "id": "2TzpRdFDVKXw",
        "colab_type": "text"
      },
      "source": [
        "## Mount Save Folder"
      ]
    },
    {
      "cell_type": "code",
      "metadata": {
        "id": "fSNSkc625huK",
        "colab_type": "code",
        "outputId": "1ffa21ee-a7c9-4890-e5c8-514ed734ffea",
        "colab": {
          "base_uri": "https://localhost:8080/",
          "height": 34
        }
      },
      "source": [
        "from google.colab import drive\n",
        "drive.mount('/content/gdrive')\n",
        "save_folder = '/content/gdrive/My Drive/Doom/'"
      ],
      "execution_count": 32,
      "outputs": [
        {
          "output_type": "stream",
          "text": [
            "Drive already mounted at /content/gdrive; to attempt to forcibly remount, call drive.mount(\"/content/gdrive\", force_remount=True).\n"
          ],
          "name": "stdout"
        }
      ]
    },
    {
      "cell_type": "markdown",
      "metadata": {
        "id": "JWEgz8oV6uYN",
        "colab_type": "text"
      },
      "source": [
        "# Action Mappings"
      ]
    },
    {
      "cell_type": "code",
      "metadata": {
        "id": "EHnrfzAtM8fF",
        "colab_type": "code",
        "colab": {}
      },
      "source": [
        "mapping_action = [[False, False, False, False, False, False, True, True, False], [False, False, True, False, False, False, False, True, False], [False, False, True, False, False, False, True, True, False], [False, False, False, True, False, False, False, True, False], [False, False, False, True, False, False, True, True, False], [True, False, False, False, False, False, False, True, False], [True, False, False, False, False, False, True, True, False], [True, False, True, False, False, False, False, True, False], [True, False, True, False, False, False, True, True, False], [True, False, False, True, False, False, False, True, False], [True, False, False, True, False, False, True, True, False], [False, True, False, False, False, False, False, True, False], [False, True, False, False, False, False, True, True, False], [False, True, True, False, False, False, False, True, False], [False, True, True, False, False, False, True, True, False], [False, True, False, True, False, False, False, True, False], [False, True, False, True, False, False, True, True, False], [False, False, False, False, True, False, False, True, False], [False, False, False, False, True, False, True, True, False], [False, False, True, False, True, False, False, True, False], [False, False, True, False, True, False, True, True, False], [False, False, False, True, True, False, False, True, False], [False, False, False, True, True, False, True, True, False], [False, False, False, False, False, True, False, True, False], [False, False, False, False, False, True, True, True, False], [False, False, True, False, False, True, False, True, False], [False, False, True, False, False, True, True, True, False], [False, False, False, True, False, True, False, True, False], [False, False, False, True, False, True, True, True, False]]\n",
        "iden = np.eye(9)\n",
        "keys = {'MOVE_FORWARD':0, 'MOVE_BACKWARD':1, 'TURN_LEFT':2, 'TURN_RIGHT':3, 'MOVE_LEFT':4, 'MOVE_RIGHT':5, 'ATTACK':6, 'SPEED':7, 'CROUCH':8}\n",
        "mapping = [['ATTACK'],\n",
        "['TURN_LEFT'],\n",
        "['TURN_LEFT', 'ATTACK'],\n",
        "['TURN_RIGHT'],\n",
        "['TURN_RIGHT', 'ATTACK'],\n",
        "['MOVE_FORWARD'],\n",
        "['MOVE_FORWARD', 'ATTACK'],\n",
        "['MOVE_FORWARD', 'TURN_LEFT'],\n",
        "['MOVE_FORWARD', 'TURN_LEFT', 'ATTACK'],\n",
        "['MOVE_FORWARD', 'TURN_RIGHT'],\n",
        "['MOVE_FORWARD', 'TURN_RIGHT', 'ATTACK'],\n",
        "['MOVE_BACKWARD'],\n",
        "['MOVE_BACKWARD', 'ATTACK'],\n",
        "['MOVE_BACKWARD', 'TURN_LEFT'],\n",
        "['MOVE_BACKWARD', 'TURN_LEFT', 'ATTACK'],\n",
        "['MOVE_BACKWARD', 'TURN_RIGHT'],\n",
        "['MOVE_BACKWARD', 'TURN_RIGHT', 'ATTACK'],\n",
        "['MOVE_LEFT'],\n",
        "['MOVE_LEFT', 'ATTACK'],\n",
        "['MOVE_LEFT', 'TURN_LEFT'],\n",
        "['MOVE_LEFT', 'TURN_LEFT', 'ATTACK'],\n",
        "['MOVE_LEFT', 'TURN_RIGHT'],\n",
        "['MOVE_LEFT', 'TURN_RIGHT', 'ATTACK'],\n",
        "['MOVE_RIGHT'],\n",
        "['MOVE_RIGHT', 'ATTACK'],\n",
        "['MOVE_RIGHT', 'TURN_LEFT'],\n",
        "['MOVE_RIGHT', 'TURN_LEFT', 'ATTACK'],\n",
        "['MOVE_RIGHT', 'TURN_RIGHT'],\n",
        "['MOVE_RIGHT', 'TURN_RIGHT', 'ATTACK']\n",
        "]"
      ],
      "execution_count": 0,
      "outputs": []
    },
    {
      "cell_type": "markdown",
      "metadata": {
        "id": "iYivzv5r6zdo",
        "colab_type": "text"
      },
      "source": [
        "# Nets"
      ]
    },
    {
      "cell_type": "markdown",
      "metadata": {
        "id": "FkmQ08Gq63yx",
        "colab_type": "text"
      },
      "source": [
        "## Conv"
      ]
    },
    {
      "cell_type": "code",
      "metadata": {
        "id": "3V3ENGIdM8fO",
        "colab_type": "code",
        "colab": {}
      },
      "source": [
        "class CNN(nn.Module):\n",
        "    def __init__(self):\n",
        "        super(CNN, self).__init__()\n",
        "        \n",
        "        self.conv0 = torch.nn.Conv2d(in_channels = 4, out_channels = 32, kernel_size = (8, 8), stride = (4,4))\n",
        "        self.conv2 = torch.nn.Conv2d(in_channels = 32, out_channels = 64, kernel_size = (4, 4), stride = (2,2))\n",
        "        \n",
        "    def forward(self, x):\n",
        "        \n",
        "        x1 = F.relu(self.conv0(x))\n",
        "        x2 = F.relu(self.conv2(x1))\n",
        "        return x2.view(x2.shape[0], -1)\n",
        "        \n",
        "        "
      ],
      "execution_count": 0,
      "outputs": []
    },
    {
      "cell_type": "markdown",
      "metadata": {
        "id": "IENPrAJd69Qb",
        "colab_type": "text"
      },
      "source": [
        "## Recurrent"
      ]
    },
    {
      "cell_type": "code",
      "metadata": {
        "id": "2_JNhpiLM8fR",
        "colab_type": "code",
        "colab": {}
      },
      "source": [
        "class RNN(nn.Module):\n",
        "    def __init__(self, input_size, hidden_size, num_layers, out_features):\n",
        "        super(RNN, self).__init__()\n",
        "        \n",
        "        self.input_size = input_size\n",
        "        self.hidden_size = hidden_size\n",
        "        self.num_layers = num_layers\n",
        "        self.out_features = out_features\n",
        "        \n",
        "        self.rnn = nn.LSTM(input_size = input_size, hidden_size = hidden_size, num_layers = num_layers, batch_first = True)\n",
        "        self.proj_action_scores = nn.Linear(in_features = hidden_size, out_features = out_features, bias = True)\n",
        "        \n",
        "    def init_hidden(self, batch_size):\n",
        "        return torch.zeros(1, batch_size , self.hidden_size)\n",
        "\n",
        "    def forward(self, X, prev_state, back=False):\n",
        "\n",
        "        ret = None\n",
        "        \n",
        "        out, next_state = self.rnn(X, prev_state)\n",
        "        \n",
        "        out2 = self.proj_action_scores(out[:, -1])\n",
        "\n",
        "        if not back:\n",
        "            ret = (out, next_state, out2)\n",
        "\n",
        "        if back:\n",
        "            out2_back = self.proj_action_scores(out[:, -2])\n",
        "            ret = (out2_back, out2)\n",
        "\n",
        "        return ret"
      ],
      "execution_count": 0,
      "outputs": []
    },
    {
      "cell_type": "markdown",
      "metadata": {
        "id": "gwusB0tx7A__",
        "colab_type": "text"
      },
      "source": [
        "# Game"
      ]
    },
    {
      "cell_type": "code",
      "metadata": {
        "id": "f_FjsXjiM8fT",
        "colab_type": "code",
        "colab": {}
      },
      "source": [
        "def create_game():\n",
        "    game = DoomGame()\n",
        "    game.load_config(\"/usr/local/lib/python3.6/dist-packages/vizdoom/scenarios/cig.cfg\")\n",
        "    game.load_config(\"/usr/local/lib/python3.6/dist-packages/vizdoom/bots.cfg\")\n",
        "    game.set_doom_map(\"map01\") \n",
        "    game.set_screen_format(vzd.ScreenFormat.CRCGCB)\n",
        "    game.set_window_visible(False)\n",
        "\n",
        "    # Sets resolution for all buffers.\n",
        "    game.set_screen_resolution(vzd.ScreenResolution.RES_400X225)\n",
        "\n",
        "    # Enables depth buffer.\n",
        "    game.set_depth_buffer_enabled(True)\n",
        "\n",
        "    # Enables labeling of in game objects labeling.\n",
        "    game.set_labels_buffer_enabled(True)\n",
        "\n",
        "    # Enables buffer with top down map of he current episode/level .\n",
        "    game.set_automap_buffer_enabled(True)\n",
        "    game.set_automap_mode(vzd.AutomapMode.OBJECTS)\n",
        "    game.set_automap_rotate(False)\n",
        "    game.set_automap_render_textures(False)\n",
        "\n",
        "    game.set_render_hud(True)\n",
        "    game.set_render_minimal_hud(False)\n",
        "\n",
        "    game.set_mode(vzd.Mode.SPECTATOR)\n",
        "\n",
        "    game.add_available_game_variable(GameVariable.AMMO3)\n",
        "    game.add_available_game_variable(GameVariable.HEALTH)\n",
        "\n",
        "    game.add_game_args(\"-host 1 \"  \n",
        "                    # This machine will function as a host for a multiplayer game with this many players (including this machine). \n",
        "                    # It will wait for other machines to connect using the -join parameter and then start the game when everyone is connected.\n",
        "                    \"-deathmatch \"           # Deathmatch rules are used for the game.\n",
        "                    \"+timelimit 1 \"       # The game (episode) will end after this many minutes have elapsed.\n",
        "                    \"+sv_forcerespawn 1 \"    # Players will respawn automatically after they die.\n",
        "                    \"+sv_noautoaim 1 \"       # Autoaim is disabled for all players.\n",
        "                    \"+sv_respawnprotect 1 \"  # Players will be invulnerable for two second after spawning.\n",
        "                    \"+sv_spawnfarthest 1 \"   # Players will be spawned as far as possible from any other players.\n",
        "                    \"+sv_nocrouch 1 \"        # Disables crouching.\n",
        "                    \"+viz_respawn_delay 1 \" # Sets delay between respanws (in seconds).\n",
        "                    \"+viz_nocheat 0\")        # Disables depth and labels buffer and the ability to use commands that could interfere with multiplayer game.\n",
        "\n",
        "    game.set_mode(Mode.ASYNC_PLAYER)\n",
        "\n",
        "    game.clear_available_buttons()\n",
        "\n",
        "    game.add_available_button(MOVE_FORWARD)\n",
        "    game.add_available_button(MOVE_BACKWARD)\n",
        "    game.add_available_button(TURN_LEFT)\n",
        "    game.add_available_button(TURN_RIGHT)\n",
        "    game.add_available_button(MOVE_LEFT)\n",
        "    game.add_available_button(MOVE_RIGHT)\n",
        "    game.add_available_button(ATTACK)\n",
        "    game.add_available_button(SPEED)\n",
        "    game.add_available_button(CROUCH)\n",
        "\n",
        "    return game"
      ],
      "execution_count": 0,
      "outputs": []
    },
    {
      "cell_type": "markdown",
      "metadata": {
        "id": "R3jIUsLDC3eV",
        "colab_type": "text"
      },
      "source": [
        "# Reward Shaping"
      ]
    },
    {
      "cell_type": "code",
      "metadata": {
        "id": "oRmxKsN6C1_3",
        "colab_type": "code",
        "colab": {}
      },
      "source": [
        "def reward_shaping(game, param):    \n",
        "\n",
        "    reward_values = {\n",
        "    'BASE_REWARD': 0.,\n",
        "    'DISTANCE': 0.,\n",
        "    'KILL': 5.,\n",
        "    'DEATH': -5.,\n",
        "    'SUICIDE': -5.,\n",
        "    'MEDIKIT': 1.,\n",
        "    'HIT': 2,\n",
        "    'ARMOR': 1.,\n",
        "    'INJURED': -1.,\n",
        "    'WEAPON': 1.,\n",
        "    'AMMO': 1.,\n",
        "    'USE_AMMO': -0.2}\n",
        "    \n",
        "\n",
        "    tot_reward=0\n",
        "\n",
        "    hit = game.get_game_variable(GameVariable.HITCOUNT)\n",
        "    kill = game.get_game_variable(GameVariable.KILLCOUNT)\n",
        "    death = game.get_game_variable(GameVariable.DEATHCOUNT)\n",
        "    x = game.get_game_variable(GameVariable.POSITION_X)\n",
        "    y = game.get_game_variable(GameVariable.POSITION_Y)\n",
        "    ammo = game.get_game_variable(GameVariable.AMMO3)\n",
        "    health = game.get_game_variable(GameVariable.HEALTH)\n",
        "    frag = game.get_game_variable(GameVariable.FRAGCOUNT)\n",
        "    armor= game.get_game_variable(GameVariable.ARMOR)\n",
        "    \n",
        "    distance = (param['x']-x)**2 + (param['y']-y)**2\n",
        "    kill_diff = kill - param['kill']\n",
        "    death_diff = death - param['death']\n",
        "    frag_diff = frag - param['frag']\n",
        "    health_diff = health - param['health']\n",
        "    ammo_diff = ammo - param['ammo']\n",
        "    armor_diff = armor - param['armor']\n",
        "    hit_diff = hit - param['hit']\n",
        "\n",
        "    tot_reward+=reward_values['DISTANCE']*distance\n",
        "\n",
        "    if ammo_diff>0:\n",
        "#         print('++++++++++++++2 reward')\n",
        "        # print(\"Ammo found\")\n",
        "        tot_reward+=reward_values['AMMO']\n",
        "    elif ammo_diff<0:\n",
        "        # print(\"Ammo used\")\n",
        "        tot_reward+=reward_values['USE_AMMO']\n",
        "    \n",
        "    if health_diff>0:\n",
        "        # print('+++++++++=== medkit')\n",
        "        # print(\"health found\")\n",
        "        tot_reward+=reward_values['MEDIKIT']\n",
        "    elif health_diff<0:\n",
        "        # print(\"health used\")\n",
        "        tot_reward+=reward_values['INJURED']\n",
        "        \n",
        "    if armor_diff>0:\n",
        "        tot_reward+=reward_values['ARMOR']\n",
        "    elif armor_diff<0:\n",
        "        tot_reward+=reward_values['INJURED'] \n",
        "        \n",
        "    # if kill_diff>0:\n",
        "    #     # print(\"killed\")\n",
        "    #     tot_reward+=reward_values['KILL']\n",
        "        \n",
        "    if death_diff>0:\n",
        "        # print(\"death\")\n",
        "        tot_reward+=reward_values['DEATH']\n",
        "               \n",
        "        if frag_diff<0:\n",
        "            frag_diff = 0\n",
        "    \n",
        "    if frag_diff<0:\n",
        "        # print('suicide')\n",
        "        tot_reward+=reward_values['SUICIDE']\n",
        "    \n",
        "    if frag_diff > 0:\n",
        "        tot_reward+=reward_values['KILL']\n",
        "\n",
        "    if hit_diff>0:\n",
        "        # print(\"hit count\")\n",
        "        tot_reward+=reward_values['HIT']\n",
        "\n",
        "    # if tot_reward != 0:\n",
        "    #     print('old')\n",
        "    #     print(param)\n",
        "\n",
        "    param['x'], param['y'] = x, y \n",
        "    param['ammo'] = ammo\n",
        "    param['health'] = health\n",
        "    param['frag'] = frag\n",
        "    param['armor'] = armor\n",
        "    param['kill'] = kill\n",
        "    param['death'] = death\n",
        "    param['hit'] = hit\n",
        "\n",
        "    # if tot_reward != 0:\n",
        "    #     print('new')\n",
        "    #     print(param)\n",
        "    #     print('-------------------------------------------------------------------------------------------------------------')\n",
        "    #     print()\n",
        "\n",
        "    return tot_reward, param"
      ],
      "execution_count": 0,
      "outputs": []
    },
    {
      "cell_type": "markdown",
      "metadata": {
        "id": "NGQ_fIuyQcbs",
        "colab_type": "text"
      },
      "source": [
        "# Misc"
      ]
    },
    {
      "cell_type": "markdown",
      "metadata": {
        "id": "kd71j2ZADxRD",
        "colab_type": "text"
      },
      "source": [
        "## Label ID"
      ]
    },
    {
      "cell_type": "code",
      "metadata": {
        "id": "32i7nXmsM8fl",
        "colab_type": "code",
        "colab": {}
      },
      "source": [
        "def get_label_type_id(label):\n",
        "    \"\"\"\n",
        "    Map an object name to a feature map.\n",
        "    0 = enemy\n",
        "    1 = health item\n",
        "    2 = weapon\n",
        "    3 = ammo\n",
        "    None = anything else\n",
        "    \"\"\"\n",
        "    ENEMY_NAME_SET = set([\n",
        "    'MarineBFG', 'MarineBerserk', 'MarineChaingun', 'MarineChainsaw',\n",
        "    'MarineFist', 'MarinePistol', 'MarinePlasma', 'MarineRailgun',\n",
        "    'MarineRocket', 'MarineSSG', 'MarineShotgun',\n",
        "    'Demon'\n",
        "    ])\n",
        "    HEALTH_ITEM_NAME_SET = set([\n",
        "        'ArmorBonus', 'BlueArmor', 'GreenArmor', 'HealthBonus',\n",
        "        'Medikit', 'Stimpack'\n",
        "    ])\n",
        "    WEAPON_NAME_SET = set([\n",
        "        'Pistol', 'Chaingun', 'RocketLauncher', 'Shotgun', 'SuperShotgun',\n",
        "        'PlasmaRifle', 'BFG9000', 'Chainsaw'\n",
        "    ])\n",
        "    AMMO_NAME_SET = set([\n",
        "        'Cell', 'CellPack', 'Clip', 'ClipBox', 'RocketAmmo', 'RocketBox',\n",
        "        'Shell', 'ShellBox'\n",
        "    ])\n",
        "    \n",
        "    name = label.object_name\n",
        "    value = label.value\n",
        "    if value != 255 and name == 'DoomPlayer' or name in ENEMY_NAME_SET:\n",
        "        return 0\n",
        "    elif name in HEALTH_ITEM_NAME_SET:\n",
        "        return 1\n",
        "    elif name in WEAPON_NAME_SET:\n",
        "        return 2\n",
        "    elif name in AMMO_NAME_SET:\n",
        "        return 3"
      ],
      "execution_count": 0,
      "outputs": []
    },
    {
      "cell_type": "markdown",
      "metadata": {
        "id": "3Q4ouo8MDu7j",
        "colab_type": "text"
      },
      "source": [
        "## Label Buffer"
      ]
    },
    {
      "cell_type": "code",
      "metadata": {
        "id": "x9pz5fkyDssE",
        "colab_type": "code",
        "colab": {}
      },
      "source": [
        "def return_u(s):\n",
        "    mapping_u = np.zeros((256,), dtype=np.uint8)\n",
        "    labels_buffer = s.labels_buffer\n",
        "    for label in s.labels:\n",
        "        type_id = get_label_type_id(label)\n",
        "        if type_id is not None:\n",
        "            mapping_u[label.value] = type_id + 1\n",
        "    # -x is faster than x * 255 and is equivalent for uint8\n",
        "    uu_labels_buffer = -(mapping_u[labels_buffer] ==\n",
        "                        np.arange(1, 5)[:, None, None]).astype(np.uint8)\n",
        "    \n",
        "    # print(uu_labels_buffer.shape)\n",
        "    game_labels_mapping = [0, None, None, None]\n",
        "\n",
        "\n",
        "    n_feature_maps = max(x for x in game_labels_mapping\n",
        "                         if x is not None) + 1\n",
        "\n",
        "    u_labels_buffer = np.zeros((1,) + (225, 400),\n",
        "                                          dtype=np.uint8)\n",
        "\n",
        "    for i in range(4):\n",
        "        j = game_labels_mapping[i]\n",
        "        \n",
        "        if j is not None:\n",
        "            u_labels_buffer[j] += uu_labels_buffer[i]\n",
        "    u_labels_buffer = np.concatenate([\n",
        "        cv2.resize(\n",
        "            u_labels_buffer[i],\n",
        "            (108, 60),\n",
        "            interpolation=cv2.INTER_AREA\n",
        "        ).reshape(1, 60, 108)\n",
        "        for i in range(u_labels_buffer.shape[0])\n",
        "    ], axis=0)\n",
        "\n",
        "    return u_labels_buffer"
      ],
      "execution_count": 0,
      "outputs": []
    },
    {
      "cell_type": "markdown",
      "metadata": {
        "id": "p1X-K_LzD2Fw",
        "colab_type": "text"
      },
      "source": [
        "## Embeds"
      ]
    },
    {
      "cell_type": "code",
      "metadata": {
        "id": "X2QEyrtBM8fo",
        "colab_type": "code",
        "colab": {}
      },
      "source": [
        "t = torch.ones(320)\n",
        "a  = [ 0.9046,  0.2134, -0.4263,  0.6935, -0.1992, -0.7638, -0.7087,\n",
        "         -0.7069, -0.5152,  0.9864,  0.3943,  1.0061, -0.2596,  0.2902,\n",
        "          0.7169,  0.2853, -0.0477, -0.2059,  0.5542, -0.3423, -0.0104,\n",
        "          0.2984, -0.6767, -0.0438, -0.4817,  0.1470, -0.4538,  0.6242,\n",
        "         -0.1060, -0.8813, -0.0825,  0.6817, 0.3851, -0.8109, -0.0730,  0.5059,  0.3322, -1.0178, -0.2348,\n",
        "         -0.6786,  1.0048, -0.8780,  0.5038, -0.5334, -0.3227, -0.8099,\n",
        "          0.1141, -0.9171, -0.7294,  1.5010, -0.8287,  1.2967, -0.4908,\n",
        "          1.0239,  0.8320,  0.8535, -0.3320, -0.4335,  0.9687, -0.6026,\n",
        "          0.2370, -0.3944, -0.8017, -0.2437]\n",
        "fixed_vec = t.new_tensor(a)"
      ],
      "execution_count": 0,
      "outputs": []
    },
    {
      "cell_type": "markdown",
      "metadata": {
        "id": "Rr_ZqLxcBAiA",
        "colab_type": "text"
      },
      "source": [
        "#  Experience Replay"
      ]
    },
    {
      "cell_type": "code",
      "metadata": {
        "id": "iZoFPk_bQluy",
        "colab_type": "code",
        "colab": {}
      },
      "source": [
        "def save_replay(cnn, rnn, episodes, frame_skip, bots):\n",
        "\n",
        "    game = create_game()\n",
        "\n",
        "    game.init()\n",
        "\n",
        "    r_list = []\n",
        "\n",
        "    f = open(save_folder + 'replay/list_file_name.txt', 'w+')\n",
        "    f.close()\n",
        "\n",
        "\n",
        "    for ep in tqdm(range(episodes), desc=\"Replay\"):\n",
        "        batch = torch.FloatTensor()\n",
        "        \n",
        "        game.send_game_command(\"removebots\")\n",
        "        for j in range(bots):\n",
        "            game.send_game_command(\"addbot\")\n",
        "        game.new_episode()\n",
        "        game.advance_action(3)\n",
        "        prev_state = (torch.zeros(1, 1 , 512).cuda(), torch.zeros(1, 1 , 512).cuda())\n",
        "        total_reward = 0\n",
        "        \n",
        "        param = {}\n",
        "        param['hit'] = game.get_game_variable(GameVariable.HITCOUNT)\n",
        "        param['kill'] = game.get_game_variable(GameVariable.KILLCOUNT)\n",
        "        param['death'] = game.get_game_variable(GameVariable.DEATHCOUNT)\n",
        "        param['x'] = game.get_game_variable(GameVariable.POSITION_X)\n",
        "        param['y'] = game.get_game_variable(GameVariable.POSITION_Y)\n",
        "        param['ammo'] = game.get_game_variable(GameVariable.AMMO3)\n",
        "        param['health'] = game.get_game_variable(GameVariable.HEALTH)\n",
        "        param['frag'] = game.get_game_variable(GameVariable.FRAGCOUNT)\n",
        "        param['armor'] = game.get_game_variable(GameVariable.ARMOR)\n",
        "\n",
        "        step = 0     \n",
        "        \n",
        "        while not game.is_episode_finished():\n",
        "\n",
        "            sar = []\n",
        "\n",
        "            all_buffers = []\n",
        "            s = game.get_state()\n",
        "            state_vars = s.game_variables\n",
        "            s_image = s.screen_buffer\n",
        "            s_image = cv2.resize(s_image.transpose(1, 2, 0),(108, 60),interpolation=cv2.INTER_AREA).transpose(2, 0, 1)\n",
        "            all_buffers.append(s_image)\n",
        "            u_labels_buffer = return_u(s)\n",
        "            all_buffers.append(u_labels_buffer)\n",
        "            final_s = np.concatenate(all_buffers, 0)\n",
        "            final_s = final_s/255        \n",
        "            final_s = torch.from_numpy(final_s)\n",
        "            final_s = torch.unsqueeze(final_s, dim = 0)\n",
        "            final_s = final_s.type(torch.FloatTensor)\n",
        "            \n",
        "            #add s\n",
        "            sar.append(final_s.detach().cpu().numpy())\n",
        "\n",
        "            #get action\n",
        "            encode = cnn(final_s.cuda())\n",
        "            embeddings = fixed_vec.reshape(1, 1, 64)*0.01\n",
        "            encode = encode.reshape(1, 1, 4608)\n",
        "            finalize = torch.cat((encode,embeddings.cuda()),2)\n",
        "            rnn_out, next_state, out = rnn(finalize, prev_state)\n",
        "            prev_state = next_state\n",
        "            action_id = torch.argmax(out)\n",
        "            \n",
        "            #add a\n",
        "            sar.append(action_id.detach().cpu().numpy())\n",
        "\n",
        "            action = np.zeros(9)\n",
        "            for m in mapping[action_id]:\n",
        "                # print(m, end = \" , \")\n",
        "                action += iden[keys[m]]\n",
        "\n",
        "            for fs in range(frame_skip):\n",
        "                game.make_action(mapping_action[action_id])\n",
        "                time.sleep(0.01)\n",
        "                \n",
        "                if game.is_player_dead():\n",
        "                    # print(\"Player died.\") \n",
        "                    # Use this to respawn immediately after death, new state will be available.\n",
        "                    game.respawn_player()\n",
        "                    # game.advance_action(3)\n",
        "\n",
        "            reward, param = reward_shaping(game, param)\n",
        "\n",
        "            #add R\n",
        "            sar.append(reward)\n",
        "\n",
        "            #save sar    \n",
        "            torch.save(sar, save_folder + 'replay/sar_'+str(ep)+'_'+str(step)+'.pt')   \n",
        "\n",
        "            f = open(save_folder + 'replay/list_file_name.txt', 'a+')\n",
        "            f.write('sar_'+str(ep)+'_'+str(step)+'.pt')\n",
        "            f.write('\\n')\n",
        "            f.close()\n",
        "\n",
        "            total_reward += reward\n",
        "\n",
        "            step += 1     \n",
        "\n",
        "        r_list.append(total_reward)\n",
        "        \n",
        "    game.close()\n",
        "\n",
        "    return r_list"
      ],
      "execution_count": 0,
      "outputs": []
    },
    {
      "cell_type": "markdown",
      "metadata": {
        "id": "hz-3zDPCTQ2u",
        "colab_type": "text"
      },
      "source": [
        "# Data Loader"
      ]
    },
    {
      "cell_type": "code",
      "metadata": {
        "id": "BLqqeqU6TQgG",
        "colab_type": "code",
        "colab": {}
      },
      "source": [
        "class Load_Data(torch.utils.data.Dataset):\n",
        "    def __init__(self, save_folder, seq_len):\n",
        "        self.save_folder = save_folder + 'replay/'\n",
        "        self.seq_len = seq_len\n",
        "        \n",
        "        with open(self.save_folder + 'list_file_name.txt') as f:\n",
        "            lines = f.readlines()\n",
        "        \n",
        "        self.n_data_points = len(lines) - 1\n",
        "\n",
        "    def __len__(self):\n",
        "        return self.n_data_points - (seq_len + 1)\n",
        "\n",
        "    def __getitem__(self, index):\n",
        "        \n",
        "        index = index + seq_len\n",
        "        \n",
        "        with open(self.save_folder + 'list_file_name.txt') as f:\n",
        "            lines = f.readlines()\n",
        "\n",
        "        name_list = lines[index-self.seq_len + 1 : index+2]\n",
        "\n",
        "        s, _, _ = torch.load(self.save_folder + name_list[0][:-1])\n",
        "        s = torch.Tensor(s)\n",
        "        for i in range(1, len(name_list)-2):\n",
        "            s1, _, _ = torch.load(self.save_folder + name_list[i][:-1])\n",
        "            s1 = torch.Tensor(s1)\n",
        "            s = torch.cat((s, s1), dim=0)\n",
        "        s1, a, r = torch.load(self.save_folder + name_list[-2][:-1])\n",
        "        s_, _, _ = torch.load(self.save_folder + name_list[-1][:-1])\n",
        "        s1 = torch.Tensor(s1)\n",
        "        s_ = torch.Tensor(s_)\n",
        "        s = torch.cat((s, s1, s_), dim=0)\n",
        "\n",
        "        a = torch.tensor(a)\n",
        "        r = torch.tensor([r])\n",
        "\n",
        "        return s, a, r"
      ],
      "execution_count": 0,
      "outputs": []
    },
    {
      "cell_type": "markdown",
      "metadata": {
        "id": "k77ZtrjTQgCf",
        "colab_type": "text"
      },
      "source": [
        "# Initialize"
      ]
    },
    {
      "cell_type": "markdown",
      "metadata": {
        "id": "sYWHfW1BEJLn",
        "colab_type": "text"
      },
      "source": [
        "## Params"
      ]
    },
    {
      "cell_type": "code",
      "metadata": {
        "id": "JtDUscMOEIjx",
        "colab_type": "code",
        "colab": {}
      },
      "source": [
        "frame_skip = 4\n",
        "replay_episodes = 20\n",
        "bots = 8\n",
        "total_epochs = 100\n",
        "batch_size = 10\n",
        "seq_len = 4\n",
        "input_size = 4672\n",
        "hidden_size = 512\n",
        "num_layers = 1\n",
        "out_features = 29\n",
        "gamma = 0.9"
      ],
      "execution_count": 0,
      "outputs": []
    },
    {
      "cell_type": "markdown",
      "metadata": {
        "id": "OCRF9mKMEO_E",
        "colab_type": "text"
      },
      "source": [
        "## Nets"
      ]
    },
    {
      "cell_type": "code",
      "metadata": {
        "id": "f-4F5kCM7SUu",
        "colab_type": "code",
        "colab": {}
      },
      "source": [
        "pretrained = torch.load(save_folder + 'renamed.pth')"
      ],
      "execution_count": 0,
      "outputs": []
    },
    {
      "cell_type": "code",
      "metadata": {
        "id": "nvQDDOxHQazV",
        "colab_type": "code",
        "colab": {}
      },
      "source": [
        "cnn = CNN()\n",
        "rnn = RNN(input_size, hidden_size, num_layers, out_features)\n",
        "cnn.load_state_dict(pretrained, strict = False)\n",
        "rnn.load_state_dict(pretrained, strict = False)\n",
        "cnn = cnn.cuda().train()\n",
        "rnn = rnn.cuda().train()"
      ],
      "execution_count": 0,
      "outputs": []
    },
    {
      "cell_type": "markdown",
      "metadata": {
        "id": "2H9ME98jWAD6",
        "colab_type": "text"
      },
      "source": [
        "## Criterions"
      ]
    },
    {
      "cell_type": "code",
      "metadata": {
        "id": "U9CJ0SRwWCdz",
        "colab_type": "code",
        "colab": {}
      },
      "source": [
        "mse = nn.MSELoss(reduction='mean')\n",
        "optimizer = torch.optim.Adam(list(cnn.parameters()) + list(rnn.parameters()))"
      ],
      "execution_count": 0,
      "outputs": []
    },
    {
      "cell_type": "markdown",
      "metadata": {
        "id": "9qNgKt5J4HaN",
        "colab_type": "text"
      },
      "source": [
        "## Data Loader"
      ]
    },
    {
      "cell_type": "code",
      "metadata": {
        "id": "hhqEWKzk4cQl",
        "colab_type": "code",
        "colab": {}
      },
      "source": [
        "def prepare_data(save_folder, seq_len, batch_size):\n",
        "    train_dataset = Load_Data(save_folder=save_folder, seq_len=seq_len)\n",
        "    train_loader = torch.utils.data.DataLoader(train_dataset, batch_size=batch_size, shuffle=False, num_workers=0)\n",
        "\n",
        "    return train_loader"
      ],
      "execution_count": 0,
      "outputs": []
    },
    {
      "cell_type": "markdown",
      "metadata": {
        "id": "G_1b4EU-ES2s",
        "colab_type": "text"
      },
      "source": [
        "# Train"
      ]
    },
    {
      "cell_type": "code",
      "metadata": {
        "id": "OeGqVQZyE-cf",
        "colab_type": "code",
        "outputId": "0c192b5d-e4a3-4579-c584-64d4da8b887e",
        "colab": {
          "base_uri": "https://localhost:8080/",
          "height": 50
        }
      },
      "source": [
        "import time\n",
        "import copy\n",
        "\n",
        "epoch_avg_loss = [0]*total_epochs\n",
        "epoch_avg_reward = [0]*total_epochs\n",
        "\n",
        "#To time the code\n",
        "# t = time.time()\n",
        "\n",
        "for epoch in range(total_epochs):\n",
        "    \n",
        "    print('epoch', epoch)\n",
        "    \n",
        "    avg_loss = 0\n",
        "\n",
        "    avg_reward = save_replay(cnn, rnn, replay_episodes-4, frame_skip, bots)\n",
        "    avg_reward = np.array(avg_reward)/replay_episodes\n",
        "\n",
        "    train_loader = prepare_data(save_folder, seq_len, batch_size)\n",
        "\n",
        "    for batch_idx, (S, A, R) in tqdm(enumerate(train_loader), total=len(train_loader), desc='epoch '+str(epoch)):\n",
        "\n",
        "        S, A, R = S.cuda().view(-1, S.shape[2], S.shape[3], S.shape[4]), A.cuda(), R.cuda()\n",
        "        \n",
        "        c = cnn(S)\n",
        "        \n",
        "        e = torch.cat([fixed_vec.view(1,-1)*0.01]*c.shape[0], dim=0).cuda()\n",
        "        \n",
        "        z = torch.cat((c, e.cuda()), dim=1).view(c.shape[0]//(seq_len+1), seq_len+1, -1)\n",
        "\n",
        "        prev_state = (rnn.init_hidden(c.shape[0]//(seq_len + 1)).cuda(), rnn.init_hidden(c.shape[0]//(seq_len+1)).cuda())\n",
        "\n",
        "        q, q_ = rnn(z, prev_state, True)\n",
        "\n",
        "        y = torch.zeros(q.shape[0]).cuda()\n",
        "        for i in range(q.shape[0]):\n",
        "            y[i] = q[i, A[i]]\n",
        "        \n",
        "        y_pred = R + gamma * torch.max(q_, 1)[0]\n",
        "\n",
        "        loss = mse(y, y_pred)\n",
        "        \n",
        "        optimizer.zero_grad()\n",
        "        loss.backward()\n",
        "        optimizer.step()\n",
        "\n",
        "        avg_loss += loss.cpu().detach().numpy()\n",
        "        \n",
        "        \n",
        "        # if batch_idx % 100 == 0:\n",
        "        #     print('epoch', epoch, 'batch', batch_idx, 'train batch loss', train_loss.cpu().detach().numpy(), 'train batch acc', train_acc.cpu().detach().numpy())\n",
        "        #     print('saving...')\n",
        "        #     torch.save(model.state_dict(), sfolder + sname + '.pt')\n",
        "        #     print()\n",
        "        #     print('time taken in min:', (time.time() - t)/60)\n",
        "        #     t = time.time()\n",
        "        # total_batches += 1\n",
        "        \n",
        "    epoch_avg_loss[epoch] = avg_loss/batch_idx\n",
        "    epoch_avg_reward[epoch] = avg_reward\n",
        "    \n",
        "    loss_file = open(save_folder + 'loss_list.pkl', 'wb+')\n",
        "    pickle.dump([epoch_avg_loss, epoch_avg_reward], loss_file)\n",
        "    loss_file.close()\n",
        "\n",
        "    save_dict = {\n",
        "        'cnn':cnn.state_dict(),\n",
        "        'rnn':rnn.state_dict(),\n",
        "        'optimizer':optimizer.state_dict()\n",
        "    }\n",
        "    torch.save(save_dict, save_folder+'model'+str(epoch)+'.pt')\n",
        "\n",
        "    print()\n",
        "    print('epoch', epoch, 'epoch avg loss', epoch_avg_loss[epoch])\n",
        "    print('epoch', epoch, 'epoch avg reward', epoch_avg_reward[epoch])\n",
        "    print()\n"
      ],
      "execution_count": 0,
      "outputs": [
        {
          "output_type": "stream",
          "text": [
            "epoch 0\n"
          ],
          "name": "stdout"
        },
        {
          "output_type": "stream",
          "text": [
            "Replay:  12%|█▎        | 2/16 [02:00<14:04, 60.31s/it]"
          ],
          "name": "stderr"
        }
      ]
    },
    {
      "cell_type": "code",
      "metadata": {
        "id": "VepI3_6ZlsnK",
        "colab_type": "code",
        "colab": {}
      },
      "source": [
        ""
      ],
      "execution_count": 0,
      "outputs": []
    }
  ]
}